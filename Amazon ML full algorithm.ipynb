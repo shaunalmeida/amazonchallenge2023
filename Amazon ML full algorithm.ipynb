{
 "cells": [
  {
   "cell_type": "markdown",
   "id": "a61839c0",
   "metadata": {},
   "source": [
    "# Full training algorithm"
   ]
  },
  {
   "cell_type": "markdown",
   "id": "84476dbc",
   "metadata": {},
   "source": [
    "### Training Data preparation"
   ]
  },
  {
   "cell_type": "code",
   "execution_count": 1,
   "id": "6f3d8b8d",
   "metadata": {},
   "outputs": [],
   "source": [
    "import pandas as pd\n",
    "import seaborn as sns\n",
    "import numpy as np\n",
    "import matplotlib.pyplot as plt\n",
    "import nltk\n",
    "import string\n",
    "from nltk.corpus import stopwords\n",
    "from nltk.tokenize import word_tokenize\n",
    "from sklearn.feature_extraction.text import CountVectorizer, TfidfTransformer\n",
    "from sklearn.model_selection import train_test_split\n",
    "\n",
    "df = pd.read_csv(\"train.csv\")\n",
    "\n",
    "def clean_col_names(col_name):\n",
    "    col_name = (\n",
    "        col_name.strip()\n",
    "        .lower()\n",
    "    )\n",
    "    return col_name\n",
    "\n",
    "columns = list(df.columns)\n",
    "columns = [clean_col_names(col_name) for col_name in columns]\n",
    "df.columns = columns\n",
    "\n",
    "def fill_missing_value(data):\n",
    "    data['title'].fillna(value = 'Unknown', inplace=True)\n",
    "    data['bullet_points'].fillna(value = 'Unavailable', inplace=True)\n",
    "    data['description'].fillna(value = 'No description', inplace=True)\n",
    "    \n",
    "    return data\n",
    "\n",
    "dfx = fill_missing_value(df)\n",
    "\n",
    "dfx['product_length'] = np.log1p(dfx['product_length'])\n",
    "\n",
    "df1 =dfx.sample(frac=0.2).reset_index(drop=True)\n",
    "df1.shape\n",
    "\n",
    "df1['bullet_points'] = df1['bullet_points'].astype(str)\n",
    "\n",
    "stop = stopwords.words('english')\n",
    "\n",
    "def remove_punctuation(sentence: str) -> str:\n",
    "    return sentence.translate(str.maketrans('', '', string.punctuation))\n",
    "\n",
    "# Create a function to remove stop words\n",
    "def remove_stop_words(x):\n",
    "    x = ' '.join([i for i in x.lower().split(' ') if i not in stop])\n",
    "    return x\n",
    "\n",
    "def text_process(text):\n",
    "    text = remove_punctuation(text)\n",
    "    text = remove_stop_words(text)\n",
    "    text = text.lower()\n",
    "    \n",
    "    return text\n",
    "\n",
    "from nltk.stem.porter import PorterStemmer\n",
    "porter = PorterStemmer()\n",
    "\n",
    "df1['bullet_points'] = df1['bullet_points'].apply(porter.stem)\n",
    "\n",
    "df1['bullet_points'] = df1['bullet_points'].apply(text_process)\n",
    "\n",
    "bow_transformer = CountVectorizer(analyzer=text_process)\n",
    "bow_transformer.fit(df1['bullet_points'])\n",
    "bow_bullet_points = bow_transformer.transform(df1['bullet_points'])\n",
    "\n",
    "tfidf_transformer = TfidfTransformer().fit(bow_bullet_points)\n",
    "tfidf_reviews = tfidf_transformer.transform(bow_bullet_points)\n",
    "\n",
    "X_train, X_test, y_train, y_test = train_test_split(df1['bullet_points'],df1['product_length'],test_size=0.25)"
   ]
  },
  {
   "cell_type": "markdown",
   "id": "be86696c",
   "metadata": {},
   "source": [
    "### Training"
   ]
  },
  {
   "cell_type": "code",
   "execution_count": 2,
   "id": "97ad3edd",
   "metadata": {},
   "outputs": [],
   "source": [
    "import pickle\n",
    "from sklearn.pipeline import Pipeline\n",
    "from sklearn.ensemble import RandomForestRegressor\n",
    "from sklearn.svm import SVR\n",
    "from sklearn.ensemble import GradientBoostingRegressor\n",
    "from sklearn.linear_model import ElasticNet\n",
    "from sklearn.linear_model import SGDRegressor\n",
    "from sklearn.linear_model import BayesianRidge\n",
    "from xgboost.sklearn import XGBRegressor\n",
    "from lightgbm import LGBMRegressor\n",
    "from sklearn.kernel_ridge import KernelRidge\n",
    "from sklearn.metrics import mean_absolute_percentage_error"
   ]
  },
  {
   "cell_type": "code",
   "execution_count": null,
   "id": "94197e8c",
   "metadata": {},
   "outputs": [],
   "source": [
    "%%time\n",
    "#RandomForestRegressor\n",
    "\n",
    "pipeline_RFR = Pipeline([\n",
    "    ('bow',CountVectorizer(analyzer=text_process)),\n",
    "    ('tfidf',TfidfTransformer()),\n",
    "    ('regressor', SVR())\n",
    "])\n",
    "\n",
    "pipeline_RFR.fit(X_train, y_train)\n",
    "y_pred = pipeline_RFR.predict(X_test)\n",
    "\n",
    "with open('RFR_model.pkl', 'wb') as file:\n",
    "    pickle.dump(pipeline_RFR, file)\n",
    "\n",
    "score = max(0 , 100*(1-mean_absolute_percentage_error(y_test,y_pred)))\n",
    "print(score)"
   ]
  },
  {
   "cell_type": "code",
   "execution_count": 5,
   "id": "ea9635d9",
   "metadata": {},
   "outputs": [
    {
     "name": "stdout",
     "output_type": "stream",
     "text": [
      "89.9823274311251\n",
      "Wall time: 1min 56s\n"
     ]
    }
   ],
   "source": [
    "##SVM\n",
    "%%time\n",
    "\n",
    "pipeline_SVR = Pipeline([\n",
    "    ('bow',CountVectorizer(analyzer=text_process)),\n",
    "    ('tfidf',TfidfTransformer()),\n",
    "    ('regressor', RandomForestRegressor())\n",
    "])\n",
    "\n",
    "pipeline_SVR.fit(X_train, y_train)\n",
    "y_pred = pipeline_SVR.predict(X_test)\n",
    "\n",
    "score = max(0 , 100*(1-mean_absolute_percentage_error(y_test,y_pred)))\n",
    "print(score)\n",
    "\n",
    "with open('SVR_model.pkl', 'wb') as file:\n",
    "    pickle.dump(pipeline_SVR, file)\n",
    "\n",
    "file.close()"
   ]
  },
  {
   "cell_type": "code",
   "execution_count": 15,
   "id": "b95443f2",
   "metadata": {},
   "outputs": [
    {
     "name": "stdout",
     "output_type": "stream",
     "text": [
      "88.8666373915257\n"
     ]
    }
   ],
   "source": [
    "#ElasticNet\n",
    "#%%time\n",
    "\n",
    "pipeline_EN = Pipeline([\n",
    "    ('bow',CountVectorizer(analyzer=text_process)),\n",
    "    ('tfidf',TfidfTransformer()),\n",
    "    ('regressor', ElasticNet())\n",
    "])\n",
    "\n",
    "pipeline_EN.fit(X_train, y_train)\n",
    "y_pred = pipeline_EN.predict(X_test)\n",
    "\n",
    "score = max(0 , 100*(1-mean_absolute_percentage_error(y_test,y_pred)))\n",
    "print(score)\n",
    "\n",
    "with open('EN_model.pkl', 'wb') as file:\n",
    "    pickle.dump(pipeline_EN, file)\n",
    "\n",
    "file.close()"
   ]
  },
  {
   "cell_type": "code",
   "execution_count": 19,
   "id": "56585448",
   "metadata": {},
   "outputs": [
    {
     "name": "stdout",
     "output_type": "stream",
     "text": [
      "88.3852104660631\n"
     ]
    }
   ],
   "source": [
    "#SGDRegressor\n",
    "#%%time\n",
    "\n",
    "pipeline_SGD = Pipeline([\n",
    "    ('bow',CountVectorizer(analyzer=text_process)),\n",
    "    ('tfidf',TfidfTransformer()),\n",
    "    ('regressor', SGDRegressor())\n",
    "])\n",
    "\n",
    "pipeline_SGD.fit(X_train, y_train)\n",
    "y_pred = pipeline_SGD.predict(X_test)\n",
    "\n",
    "score = max(0 , 100*(1-mean_absolute_percentage_error(y_test,y_pred)))\n",
    "print(score)\n",
    "\n",
    "with open('SGD_model.pkl', 'wb') as file:\n",
    "    pickle.dump(pipeline_SGD, file)\n",
    "\n",
    "file.close()"
   ]
  },
  {
   "cell_type": "code",
   "execution_count": 21,
   "id": "2e01a780",
   "metadata": {},
   "outputs": [
    {
     "name": "stdout",
     "output_type": "stream",
     "text": [
      "89.45604634457723\n",
      "Wall time: 12.2 s\n"
     ]
    }
   ],
   "source": [
    "%%time\n",
    "\n",
    "##XGB\n",
    "pipeline_XGB = Pipeline([\n",
    "    ('bow',CountVectorizer(analyzer=text_process)),\n",
    "    ('tfidf',TfidfTransformer()),\n",
    "    ('regressor', XGBRegressor())\n",
    "])\n",
    "\n",
    "pipeline_XGB.fit(X_train, y_train)\n",
    "y_pred = pipeline_XGB.predict(X_test)\n",
    "\n",
    "score = max(0 , 100*(1-mean_absolute_percentage_error(y_test,y_pred)))\n",
    "print(score)\n",
    "\n",
    "with open('XGB_model.pkl', 'wb') as file:\n",
    "    pickle.dump(pipeline_XGB, file)\n",
    "\n",
    "file.close()"
   ]
  },
  {
   "cell_type": "markdown",
   "id": "c5495a99",
   "metadata": {},
   "source": [
    "# Full testing algorithm"
   ]
  },
  {
   "cell_type": "code",
   "execution_count": 22,
   "id": "ad9c3d36",
   "metadata": {},
   "outputs": [],
   "source": [
    "with open('RFR_model.pkl', 'rb') as file:\n",
    "    pipeline = pickle.load(file)"
   ]
  },
  {
   "cell_type": "markdown",
   "id": "70f4e7dd",
   "metadata": {},
   "source": [
    "### Test data preparation"
   ]
  },
  {
   "cell_type": "code",
   "execution_count": 23,
   "id": "34a751fd",
   "metadata": {},
   "outputs": [],
   "source": [
    "df_test = pd.read_csv(\"test.csv\")\n",
    "\n",
    "def fill_missing_value(data):\n",
    "    data['TITLE'].fillna(value = 'Unknown', inplace=True)\n",
    "    data['BULLET_POINTS'].fillna(value = 'Unavailable', inplace=True)\n",
    "    data['DESCRIPTION'].fillna(value = 'No description', inplace=True)\n",
    "    \n",
    "    return data\n",
    "\n",
    "dfxt = fill_missing_value(df_test)\n",
    "\n",
    "dfxt['BULLET_POINTS'] = dfxt['BULLET_POINTS'].astype(str)\n",
    "\n",
    "from nltk.stem.porter import PorterStemmer\n",
    "porter = PorterStemmer()\n",
    "\n",
    "dfxt['BULLET_POINTS'] = dfxt['BULLET_POINTS'].apply(porter.stem)\n",
    "\n",
    "dfxt['BULLET_POINTS'] = dfxt['BULLET_POINTS'].apply(text_process)\n",
    "\n",
    "bow_transformer = CountVectorizer(analyzer=text_process)\n",
    "bow_transformer.fit(dfxt['BULLET_POINTS'])\n",
    "bow_bullet_points = bow_transformer.transform(dfxt['BULLET_POINTS'])\n",
    "\n",
    "tfidf_transformer = TfidfTransformer().fit(bow_bullet_points)\n",
    "tfidf_reviews = tfidf_transformer.transform(bow_bullet_points)\n",
    "log_pred = pipeline.predict(dfxt['BULLET_POINTS'])\n",
    "\n",
    "predictions = np.expm1(log_pred)\n",
    "\n",
    "submission = {\"PRODUCT_ID\": dfxt[\"PRODUCT_ID\"],\n",
    "              \"PRODUCT_LENGTH\": predictions}\n",
    "\n",
    "submission_df = pd.DataFrame(submission)\n",
    "submission_df.to_csv(\"submission.csv\")"
   ]
  }
 ],
 "metadata": {
  "kernelspec": {
   "display_name": "Python 3 (ipykernel)",
   "language": "python",
   "name": "python3"
  },
  "language_info": {
   "codemirror_mode": {
    "name": "ipython",
    "version": 3
   },
   "file_extension": ".py",
   "mimetype": "text/x-python",
   "name": "python",
   "nbconvert_exporter": "python",
   "pygments_lexer": "ipython3",
   "version": "3.9.13"
  }
 },
 "nbformat": 4,
 "nbformat_minor": 5
}
